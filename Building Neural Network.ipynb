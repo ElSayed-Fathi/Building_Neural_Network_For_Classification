{
 "cells": [
  {
   "cell_type": "code",
   "execution_count": 2,
   "id": "355be056",
   "metadata": {},
   "outputs": [],
   "source": [
    "## build neural network using tensorflow\n",
    "##MNIST Fashion Dataset"
   ]
  },
  {
   "cell_type": "code",
   "execution_count": 16,
   "id": "f50932dc",
   "metadata": {},
   "outputs": [],
   "source": [
    "# importing libraries\n",
    "import tensorflow as tf\n",
    "from tensorflow import keras\n",
    "from tensorflow.keras import Sequential\n"
   ]
  },
  {
   "cell_type": "code",
   "execution_count": 17,
   "id": "a3cd3fc5",
   "metadata": {},
   "outputs": [],
   "source": [
    "# import data from keras defualt data in keras\n",
    "fashion_data = tf.keras.datasets.mnist"
   ]
  },
  {
   "cell_type": "code",
   "execution_count": 18,
   "id": "528d4ae6",
   "metadata": {},
   "outputs": [],
   "source": [
    "# extract fashion data from minst and split it to training data and test\n",
    "(x_trainig,y_training),(x_test,y_test) = fashion_data.load_data()\n"
   ]
  },
  {
   "cell_type": "code",
   "execution_count": 19,
   "id": "aa553074",
   "metadata": {},
   "outputs": [
    {
     "data": {
      "text/plain": [
       "(10000, 28, 28)"
      ]
     },
     "execution_count": 19,
     "metadata": {},
     "output_type": "execute_result"
    }
   ],
   "source": [
    "x_test.shape ## 10000 image , size of image = 28 pixel hight * 28 pixel width"
   ]
  },
  {
   "cell_type": "code",
   "execution_count": 20,
   "id": "85d108d1",
   "metadata": {},
   "outputs": [
    {
     "data": {
      "text/plain": [
       "(60000, 28, 28)"
      ]
     },
     "execution_count": 20,
     "metadata": {},
     "output_type": "execute_result"
    }
   ],
   "source": [
    "x_trainig.shape ## 60000 image , size of image = 28 pixel hight * 28 pixel width"
   ]
  },
  {
   "cell_type": "code",
   "execution_count": 21,
   "id": "41598dde",
   "metadata": {},
   "outputs": [],
   "source": [
    "# data preprocessing\n",
    "# prepare data to use in neural network\n",
    "x_trainig,x_test = x_trainig/255,x_test/255"
   ]
  },
  {
   "attachments": {
    "download.png": {
     "image/png": "[encoded data removed]"
    }
   },
   "cell_type": "markdown",
   "id": "9da6842f",
   "metadata": {},
   "source": [
    "![download.png](attachment:download.png)"
   ]
  },
  {
   "cell_type": "code",
   "execution_count": 35,
   "id": "9ba33496",
   "metadata": {},
   "outputs": [],
   "source": [
    "## for building and Neural Network We have 3 steps  (from Andrew Ng Course)\n",
    "#1- First Step\n",
    "#building model of neural network consists of 4 layers input layer 2 hidden layer and output layer \n",
    "model = Sequential([\n",
    "    tf.keras.layers.Flatten(input_shape=(28,28)),\n",
    "    tf.keras.layers.Dense(128,activation='relu'),\n",
    "    tf.keras.layers.Dropout(0.2),\n",
    "    tf.keras.layers.Dense(10,activation='softmax')\n",
    "])"
   ]
  },
  {
   "cell_type": "code",
   "execution_count": 36,
   "id": "e23042ea",
   "metadata": {},
   "outputs": [],
   "source": [
    "#3- Second Step \n",
    "# compiling == optimizing model  >> specify optimizer and specify loss function = cost funcyion \n",
    "## we will do it using compile our model using model.complie\n",
    "# we will use adam optimizer\n",
    "# we wiil use SparseCategoricalCrossentropy() function as loss function\n",
    "\n",
    "model.compile(optimizer='adam',loss='SparseCategoricalCrossentropy',metrics=['accuracy'])\n"
   ]
  },
  {
   "cell_type": "code",
   "execution_count": 37,
   "id": "383e5ab5",
   "metadata": {},
   "outputs": [
    {
     "name": "stdout",
     "output_type": "stream",
     "text": [
      "Epoch 1/5\n",
      "1875/1875 [==============================] - 9s 4ms/step - loss: 0.2970 - accuracy: 0.9133\n",
      "Epoch 2/5\n",
      "1875/1875 [==============================] - 6s 3ms/step - loss: 0.1439 - accuracy: 0.9574\n",
      "Epoch 3/5\n",
      "1875/1875 [==============================] - 6s 3ms/step - loss: 0.1072 - accuracy: 0.9678\n",
      "Epoch 4/5\n",
      "1875/1875 [==============================] - 6s 3ms/step - loss: 0.0888 - accuracy: 0.9728\n",
      "Epoch 5/5\n",
      "1875/1875 [==============================] - 6s 3ms/step - loss: 0.0744 - accuracy: 0.9761\n"
     ]
    },
    {
     "data": {
      "text/plain": [
       "<keras.callbacks.History at 0x1e4c12f8190>"
      ]
     },
     "execution_count": 37,
     "metadata": {},
     "output_type": "execute_result"
    }
   ],
   "source": [
    "#3- Third Step\n",
    "#Train on data to\n",
    "##minimize J(w,b) == minimize cost function\n",
    "# using Training data set to train our model using model.fit(x_train,y_train,epochs=5)  epochs \n",
    "# defining epoch : Each trail to learn from the input dataset is called an epoch.\n",
    "#epochs = 5 معنها هيعدى على الداتا سيت كلها 5 مرات \n",
    "\n",
    "#So an epoch refers to one cycle through the full training dataset\n",
    "#Usually, training a neural network takes more than a few epochs. Increasing the number of epochs doesn’t always mean that the network will give better results.\n",
    "# So basically, by trial-and-error, we choose several epochs at which the results still the same after a very few cycles.\n",
    "model.fit(x_trainig,y_training,epochs=5)"
   ]
  },
  {
   "cell_type": "code",
   "execution_count": 38,
   "id": "b64de3be",
   "metadata": {},
   "outputs": [
    {
     "name": "stdout",
     "output_type": "stream",
     "text": [
      "313/313 [==============================] - 2s 7ms/step - loss: 0.0744 - accuracy: 0.9768\n"
     ]
    },
    {
     "data": {
      "text/plain": [
       "[0.07435265183448792, 0.9768000245094299]"
      ]
     },
     "execution_count": 38,
     "metadata": {},
     "output_type": "execute_result"
    }
   ],
   "source": [
    "# evaluate the model = test model  using test data set \n",
    "# using model.evaluate(x_test,y_test)\n",
    "model.evaluate(x_test,y_test)"
   ]
  },
  {
   "cell_type": "code",
   "execution_count": null,
   "id": "0af49c57",
   "metadata": {},
   "outputs": [],
   "source": []
  }
 ],
 "metadata": {
  "kernelspec": {
   "display_name": "Python 3 (ipykernel)",
   "language": "python",
   "name": "python3"
  },
  "language_info": {
   "codemirror_mode": {
    "name": "ipython",
    "version": 3
   },
   "file_extension": ".py",
   "mimetype": "text/x-python",
   "name": "python",
   "nbconvert_exporter": "python",
   "pygments_lexer": "ipython3",
   "version": "3.10.8"
  }
 },
 "nbformat": 4,
 "nbformat_minor": 5
}
